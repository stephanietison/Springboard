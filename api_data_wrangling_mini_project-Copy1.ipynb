{
 "cells": [
  {
   "cell_type": "markdown",
   "metadata": {},
   "source": [
    "This exercise will require you to pull some data from the Qunadl API. Qaundl is currently the most widely used aggregator of financial market data."
   ]
  },
  {
   "cell_type": "markdown",
   "metadata": {},
   "source": [
    "As a first step, you will need to register a free account on the http://www.quandl.com website."
   ]
  },
  {
   "cell_type": "markdown",
   "metadata": {},
   "source": [
    "After you register, you will be provided with a unique API key, that you should store:"
   ]
  },
  {
   "cell_type": "code",
   "execution_count": 110,
   "metadata": {
    "collapsed": true
   },
   "outputs": [],
   "source": [
    "# Store the API key as a string - according to PEP8, constants are always named in all upper case\n",
    "API_KEY = ''"
   ]
  },
  {
   "cell_type": "markdown",
   "metadata": {},
   "source": [
    "Qaundl has a large number of data sources, but, unfortunately, most of them require a Premium subscription. Still, there are also a good number of free datasets."
   ]
  },
  {
   "cell_type": "markdown",
   "metadata": {},
   "source": [
    "For this mini project, we will focus on equities data from the Frankfurt Stock Exhange (FSE), which is available for free. We'll try and analyze the stock prices of a company called Carl Zeiss Meditec, which manufactures tools for eye examinations, as well as medical lasers for laser eye surgery: https://www.zeiss.com/meditec/int/home.html. The company is listed under the stock ticker AFX_X."
   ]
  },
  {
   "cell_type": "markdown",
   "metadata": {},
   "source": [
    "You can find the detailed Quandl API instructions here: https://docs.quandl.com/docs/time-series"
   ]
  },
  {
   "cell_type": "markdown",
   "metadata": {},
   "source": [
    "While there is a dedicated Python package for connecting to the Quandl API, we would prefer that you use the *requests* package, which can be easily downloaded using *pip* or *conda*. You can find the documentation for the package here: http://docs.python-requests.org/en/master/ "
   ]
  },
  {
   "cell_type": "markdown",
   "metadata": {},
   "source": [
    "Finally, apart from the *requests* package, you are encouraged to not use any third party Python packages, such as *pandas*, and instead focus on what's available in the Python Standard Library (the *collections* module might come in handy: https://pymotw.com/3/collections/).\n",
    "Also, since you won't have access to DataFrames, you are encouraged to us Python's native data structures - preferably dictionaries, though some questions can also be answered using lists.\n",
    "You can read more on these data structures here: https://docs.python.org/3/tutorial/datastructures.html"
   ]
  },
  {
   "cell_type": "markdown",
   "metadata": {},
   "source": [
    "Keep in mind that the JSON responses you will be getting from the API map almost one-to-one to Python's dictionaries. Unfortunately, they can be very nested, so make sure you read up on indexing dictionaries in the documentation provided above."
   ]
  },
  {
   "cell_type": "code",
   "execution_count": 111,
   "metadata": {
    "collapsed": true
   },
   "outputs": [],
   "source": [
    "# First, import the relevant modules\n",
    "import requests\n"
   ]
  },
  {
   "cell_type": "code",
   "execution_count": 112,
   "metadata": {
    "collapsed": true
   },
   "outputs": [],
   "source": [
    "# Now, call the Quandl API and pull out a small sample of the data (only one day) to get a glimpse\n",
    "# into the JSON structure that will be returned\n",
    "url = 'https://www.quandl.com/api/v3/datasets/FSE/AFX_X.json?start_date=2017-01-02&end_date=2017-01-02&api_key=' + API_KEY\n",
    "r = requests.get(url)"
   ]
  },
  {
   "cell_type": "code",
   "execution_count": 113,
   "metadata": {},
   "outputs": [
    {
     "name": "stdout",
     "output_type": "stream",
     "text": [
      "<class 'dict'>\n",
      "{'dataset': {'id': 10095370, 'dataset_code': 'AFX_X', 'database_code': 'FSE', 'name': 'Carl Zeiss Meditec (AFX_X)', 'description': 'Stock Prices for Carl Zeiss Meditec (AFX) from the Frankfurt Stock Exchange.<br><br>Trading System: Xetra<br><br>ISIN: DE0005313704', 'refreshed_at': '2018-10-30T22:30:47.066Z', 'newest_available_date': '2018-10-30', 'oldest_available_date': '2000-06-07', 'column_names': ['Date', 'Open', 'High', 'Low', 'Close', 'Change', 'Traded Volume', 'Turnover', 'Last Price of the Day', 'Daily Traded Units', 'Daily Turnover'], 'frequency': 'daily', 'type': 'Time Series', 'premium': False, 'limit': None, 'transform': None, 'column_index': None, 'start_date': '2017-01-02', 'end_date': '2017-01-02', 'data': [['2017-01-02', 34.99, 35.94, 34.99, 35.8, None, 44700.0, 1590561.0, None, None, None]], 'collapse': None, 'order': None, 'database_id': 6129}}\n"
     ]
    }
   ],
   "source": [
    "# Inspect the JSON structure of the object you created, and take note of how nested it is,\n",
    "# as well as the overall structure\n",
    "data = r.json()\n",
    "print(type(data))\n",
    "print(data)"
   ]
  },
  {
   "cell_type": "raw",
   "metadata": {},
   "source": [
    "# data indented to show the nested structure\n",
    "\n",
    "{'dataset': \n",
    "     {'id': 10095370, \n",
    "      'dataset_code': 'AFX_X', \n",
    "      'database_code': 'FSE', \n",
    "      'name': 'Carl Zeiss Meditec (AFX_X)', \n",
    "      'description': 'Stock Prices for Carl Zeiss Meditec (AFX) from the Frankfurt Stock Exchange.<br><br>Trading System: Xetra<br><br>ISIN: DE0005313704', \n",
    "      'refreshed_at': '2018-10-30T22:30:47.066Z', \n",
    "      'newest_available_date': '2018-10-30', \n",
    "      'oldest_available_date': '2000-06-07', \n",
    "      'column_names': ['Date', 'Open', 'High', 'Low', 'Close', 'Change', 'Traded Volume', 'Turnover', 'Last Price of the Day', 'Daily Traded Units', 'Daily Turnover'], \n",
    "      'frequency': 'daily', \n",
    "      'type': 'Time Series', \n",
    "      'premium': False, \n",
    "      'limit': None, \n",
    "      'transform': None, \n",
    "      'column_index': None, \n",
    "      'start_date': '2017-01-02', \n",
    "      'end_date': '2017-01-02', \n",
    "      'data': [['2017-01-02', 34.99, 35.94, 34.99, 35.8, None, 44700.0, 1590561.0, None, None, None]], \n",
    "      'collapse': None, \n",
    "      'order': None, \n",
    "      'database_id': 6129\n",
    "      }\n",
    "}\n"
   ]
  },
  {
   "cell_type": "markdown",
   "metadata": {},
   "source": [
    "These are your tasks for this mini project:\n",
    "\n",
    "1. Collect data from the Franfurt Stock Exchange, for the ticker AFX_X, for the whole year 2017 (keep in mind that the date format is YYYY-MM-DD).\n",
    "2. Convert the returned JSON object into a Python dictionary.\n",
    "3. Calculate what the highest and lowest opening prices were for the stock in this period.\n",
    "4. What was the largest change in any one day (based on High and Low price)?\n",
    "5. What was the largest change between any two days (based on Closing Price)?\n",
    "6. What was the average daily trading volume during this year?\n",
    "7. (Optional) What was the median trading volume during this year. (Note: you may need to implement your own function for calculating the median.)"
   ]
  },
  {
   "cell_type": "code",
   "execution_count": 114,
   "metadata": {
    "collapsed": true
   },
   "outputs": [],
   "source": [
    "# same url as before with adjusted start_date and end_date to get the whole year\n",
    "url = 'https://www.quandl.com/api/v3/datasets/FSE/AFX_X.json?start_date=2017-01-01&end_date=2017-12-31&api_key=' + API_KEY\n",
    "r = requests.get(url)"
   ]
  },
  {
   "cell_type": "code",
   "execution_count": 115,
   "metadata": {},
   "outputs": [
    {
     "name": "stdout",
     "output_type": "stream",
     "text": [
      "['2017-12-29', 51.76, 51.94, 51.45, 51.76, None, 34640.0, 1792304.0, None, None, None]\n",
      "['2017-01-02', 34.99, 35.94, 34.99, 35.8, None, 44700.0, 1590561.0, None, None, None]\n"
     ]
    }
   ],
   "source": [
    "json_dict = r.json()\n",
    "\n",
    "# Extract the column_names as a list\n",
    "column_names = json_dict['dataset']['column_names']\n",
    "\n",
    "# Extract the data as a list of lists\n",
    "data = json_dict['dataset']['data']\n",
    "\n",
    "# The first day is 01/02 because 01/01 is a holiday\n",
    "# The last day is 12/29 because 12/30 and 12/31 are Saturday and Sunday\n",
    "print(data[0])\n",
    "print(data[-1])"
   ]
  },
  {
   "cell_type": "code",
   "execution_count": 116,
   "metadata": {
    "collapsed": true
   },
   "outputs": [],
   "source": [
    "# This function returns a list of values for one column\n",
    "def get_col_values(col_name):\n",
    "    i = column_names.index(col_name)\n",
    "    col = [day[i] for day in data]\n",
    "    return col"
   ]
  },
  {
   "cell_type": "code",
   "execution_count": 117,
   "metadata": {},
   "outputs": [
    {
     "name": "stdout",
     "output_type": "stream",
     "text": [
      "Highest opening price in 2017 =  53.11\n",
      "Lowest opening price in 2017 =  34.0\n"
     ]
    }
   ],
   "source": [
    "# Get a list of the opening prices for every day\n",
    "o_col = get_col_values('Open')\n",
    "\n",
    "# Find highest and lowest price (min() and max() return error because there are None values)\n",
    "low = high = o_col[0]\n",
    "for val in o_col:\n",
    "    if val is not None: # ignore None values\n",
    "        if val < low:\n",
    "            low = val\n",
    "        if val > high:\n",
    "            high = val\n",
    "\n",
    "print('Highest opening price in 2017 = ',high)\n",
    "print('Lowest opening price in 2017 = ',low)"
   ]
  },
  {
   "cell_type": "code",
   "execution_count": 118,
   "metadata": {},
   "outputs": [
    {
     "name": "stdout",
     "output_type": "stream",
     "text": [
      "Largest change in any one day =  2.81\n"
     ]
    }
   ],
   "source": [
    "# Get a list of the highest prices and a list of the lowest prices for every day\n",
    "l_col = get_col_values('Low')\n",
    "h_col = get_col_values('High')\n",
    "\n",
    "# Calculate the difference between highest and lowest prices for every day and keep the largest\n",
    "change = h_col[0] - l_col[0]\n",
    "for l_val, h_val in zip(l_col, h_col):\n",
    "    if (l_val is not None) & (h_val is not None):\n",
    "        if h_val - l_val > change:\n",
    "            change = h_val - l_val\n",
    "\n",
    "print('Largest change in any one day = ',round(change,2))"
   ]
  },
  {
   "cell_type": "code",
   "execution_count": 119,
   "metadata": {},
   "outputs": [
    {
     "name": "stdout",
     "output_type": "stream",
     "text": [
      "Largest change between any two consecutive days =  2.56\n"
     ]
    }
   ],
   "source": [
    "# Get a list of the closing price for every day\n",
    "c_col = get_col_values('Close')\n",
    "\n",
    "# Calculate the difference with the previous day closing price(yesterday) and keep the largest\n",
    "yesterday = c_col[0]\n",
    "change = 0\n",
    "for val in c_col:\n",
    "    if val is not None:\n",
    "        if abs(val-yesterday) > abs(change):\n",
    "            change = val-yesterday\n",
    "        yesterday = val\n",
    "\n",
    "print('Largest change between any two consecutive days = ',round(change,2))"
   ]
  },
  {
   "cell_type": "code",
   "execution_count": 120,
   "metadata": {},
   "outputs": [
    {
     "name": "stdout",
     "output_type": "stream",
     "text": [
      "Average daily trading volume in 2017 =  89124.3\n"
     ]
    }
   ],
   "source": [
    "# Get a list of the traded volumes for every day\n",
    "tv_col = get_col_values('Traded Volume')\n",
    "\n",
    "# Calculate the average\n",
    "average = sum(tv_col)/len(tv_col)\n",
    "print('Average daily trading volume in 2017 = ',round(average,1))"
   ]
  },
  {
   "cell_type": "code",
   "execution_count": 121,
   "metadata": {},
   "outputs": [
    {
     "name": "stdout",
     "output_type": "stream",
     "text": [
      "Median daily trading volume in 2017 =  76286.0\n"
     ]
    }
   ],
   "source": [
    "# Sort the list of traded volumes\n",
    "tv_col_s = sorted(tv_col)\n",
    "\n",
    "# Find median value\n",
    "size = len(tv_col)\n",
    "if size%2 == 1 :\n",
    "    median = tv_col_s[size//2]\n",
    "else :\n",
    "    median = (tv_col_s[size//2] + tv_col_s[size//2+1])/2\n",
    "\n",
    "print('Median daily trading volume in 2017 = ',round(median,1))"
   ]
  },
  {
   "cell_type": "code",
   "execution_count": null,
   "metadata": {
    "collapsed": true
   },
   "outputs": [],
   "source": []
  },
  {
   "cell_type": "code",
   "execution_count": null,
   "metadata": {
    "collapsed": true
   },
   "outputs": [],
   "source": []
  }
 ],
 "metadata": {
  "kernelspec": {
   "display_name": "Python 3",
   "language": "python",
   "name": "python3"
  },
  "language_info": {
   "codemirror_mode": {
    "name": "ipython",
    "version": 3
   },
   "file_extension": ".py",
   "mimetype": "text/x-python",
   "name": "python",
   "nbconvert_exporter": "python",
   "pygments_lexer": "ipython3",
   "version": "3.6.3"
  }
 },
 "nbformat": 4,
 "nbformat_minor": 2
}
