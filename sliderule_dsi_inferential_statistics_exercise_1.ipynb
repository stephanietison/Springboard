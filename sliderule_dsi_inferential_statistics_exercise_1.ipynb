{
 "cells": [
  {
   "cell_type": "markdown",
   "metadata": {},
   "source": [
    "# What is the True Normal Human Body Temperature? \n",
    "\n",
    "#### Background\n",
    "\n",
    "The mean normal body temperature was held to be 37$^{\\circ}$C or 98.6$^{\\circ}$F for more than 120 years since it was first conceptualized and reported by Carl Wunderlich in a famous 1868 book. But, is this value statistically correct?"
   ]
  },
  {
   "cell_type": "markdown",
   "metadata": {},
   "source": [
    "<h3>Exercises</h3>\n",
    "\n",
    "<p>In this exercise, you will analyze a dataset of human body temperatures and employ the concepts of hypothesis testing, confidence intervals, and statistical significance.</p>\n",
    "\n",
    "<p>Answer the following questions <b>in this notebook below and submit to your Github account</b>.</p> \n",
    "\n",
    "<ol>\n",
    "<li>  Is the distribution of body temperatures normal? \n",
    "    <ul>\n",
    "    <li> Although this is not a requirement for the Central Limit Theorem to hold (read the introduction on Wikipedia's page about the CLT carefully: https://en.wikipedia.org/wiki/Central_limit_theorem), it gives us some peace of mind that the population may also be normally distributed if we assume that this sample is representative of the population.\n",
    "    <li> Think about the way you're going to check for the normality of the distribution. Graphical methods are usually used first, but there are also other ways: https://en.wikipedia.org/wiki/Normality_test\n",
    "    </ul>\n",
    "<li>  Is the sample size large? Are the observations independent?\n",
    "    <ul>\n",
    "    <li> Remember that this is a condition for the Central Limit Theorem, and hence the statistical tests we are using, to apply.\n",
    "    </ul>\n",
    "<li>  Is the true population mean really 98.6 degrees F?\n",
    "    <ul>\n",
    "    <li> First, try a bootstrap hypothesis test.\n",
    "    <li> Now, let's try frequentist statistical testing. Would you use a one-sample or two-sample test? Why?\n",
    "    <li> In this situation, is it appropriate to use the $t$ or $z$ statistic? \n",
    "    <li> Now try using the other test. How is the result be different? Why?\n",
    "    </ul>\n",
    "<li>  Draw a small sample of size 10 from the data and repeat both frequentist tests. \n",
    "    <ul>\n",
    "    <li> Which one is the correct one to use? \n",
    "    <li> What do you notice? What does this tell you about the difference in application of the $t$ and $z$ statistic?\n",
    "    </ul>\n",
    "<li>  At what temperature should we consider someone's temperature to be \"abnormal\"?\n",
    "    <ul>\n",
    "    <li> As in the previous example, try calculating everything using the boostrap approach, as well as the frequentist approach.\n",
    "    <li> Start by computing the margin of error and confidence interval. When calculating the confidence interval, keep in mind that you should use the appropriate formula for one draw, and not N draws.\n",
    "    </ul>\n",
    "<li>  Is there a significant difference between males and females in normal temperature?\n",
    "    <ul>\n",
    "    <li> What testing approach did you use and why?\n",
    "    <li> Write a story with your conclusion in the context of the original problem.\n",
    "    </ul>\n",
    "</ol>\n",
    "\n",
    "You can include written notes in notebook cells using Markdown: \n",
    "   - In the control panel at the top, choose Cell > Cell Type > Markdown\n",
    "   - Markdown syntax: http://nestacms.com/docs/creating-content/markdown-cheat-sheet\n",
    "\n",
    "#### Resources\n",
    "\n",
    "+ Information and data sources: http://www.amstat.org/publications/jse/datasets/normtemp.txt, http://www.amstat.org/publications/jse/jse_data_archive.htm\n",
    "+ Markdown syntax: http://nestacms.com/docs/creating-content/markdown-cheat-sheet\n",
    "\n",
    "****"
   ]
  },
  {
   "cell_type": "code",
   "execution_count": 1,
   "metadata": {
    "collapsed": true
   },
   "outputs": [],
   "source": [
    "import pandas as pd\n",
    "\n",
    "df = pd.read_csv('data/human_body_temperature.csv')"
   ]
  },
  {
   "cell_type": "code",
   "execution_count": 2,
   "metadata": {},
   "outputs": [],
   "source": [
    "import matplotlib.pyplot as plt\n",
    "import numpy as np\n",
    "from scipy import stats"
   ]
  },
  {
   "cell_type": "markdown",
   "metadata": {},
   "source": [
    "# 1. Is the distribution of body temperature normal?"
   ]
  },
  {
   "cell_type": "markdown",
   "metadata": {
    "collapsed": true
   },
   "source": [
    "### First, explore the dataset"
   ]
  },
  {
   "cell_type": "code",
   "execution_count": 3,
   "metadata": {},
   "outputs": [
    {
     "data": {
      "text/html": [
       "<div>\n",
       "<style>\n",
       "    .dataframe thead tr:only-child th {\n",
       "        text-align: right;\n",
       "    }\n",
       "\n",
       "    .dataframe thead th {\n",
       "        text-align: left;\n",
       "    }\n",
       "\n",
       "    .dataframe tbody tr th {\n",
       "        vertical-align: top;\n",
       "    }\n",
       "</style>\n",
       "<table border=\"1\" class=\"dataframe\">\n",
       "  <thead>\n",
       "    <tr style=\"text-align: right;\">\n",
       "      <th></th>\n",
       "      <th>temperature</th>\n",
       "      <th>gender</th>\n",
       "      <th>heart_rate</th>\n",
       "    </tr>\n",
       "  </thead>\n",
       "  <tbody>\n",
       "    <tr>\n",
       "      <th>0</th>\n",
       "      <td>99.3</td>\n",
       "      <td>F</td>\n",
       "      <td>68.0</td>\n",
       "    </tr>\n",
       "    <tr>\n",
       "      <th>1</th>\n",
       "      <td>98.4</td>\n",
       "      <td>F</td>\n",
       "      <td>81.0</td>\n",
       "    </tr>\n",
       "    <tr>\n",
       "      <th>2</th>\n",
       "      <td>97.8</td>\n",
       "      <td>M</td>\n",
       "      <td>73.0</td>\n",
       "    </tr>\n",
       "    <tr>\n",
       "      <th>3</th>\n",
       "      <td>99.2</td>\n",
       "      <td>F</td>\n",
       "      <td>66.0</td>\n",
       "    </tr>\n",
       "    <tr>\n",
       "      <th>4</th>\n",
       "      <td>98.0</td>\n",
       "      <td>F</td>\n",
       "      <td>73.0</td>\n",
       "    </tr>\n",
       "  </tbody>\n",
       "</table>\n",
       "</div>"
      ],
      "text/plain": [
       "   temperature gender  heart_rate\n",
       "0         99.3      F        68.0\n",
       "1         98.4      F        81.0\n",
       "2         97.8      M        73.0\n",
       "3         99.2      F        66.0\n",
       "4         98.0      F        73.0"
      ]
     },
     "execution_count": 3,
     "metadata": {},
     "output_type": "execute_result"
    }
   ],
   "source": [
    "df.head()"
   ]
  },
  {
   "cell_type": "code",
   "execution_count": 4,
   "metadata": {},
   "outputs": [
    {
     "name": "stdout",
     "output_type": "stream",
     "text": [
      "<class 'pandas.core.frame.DataFrame'>\n",
      "RangeIndex: 130 entries, 0 to 129\n",
      "Data columns (total 3 columns):\n",
      "temperature    130 non-null float64\n",
      "gender         130 non-null object\n",
      "heart_rate     130 non-null float64\n",
      "dtypes: float64(2), object(1)\n",
      "memory usage: 3.1+ KB\n"
     ]
    }
   ],
   "source": [
    "df.info()"
   ]
  },
  {
   "cell_type": "code",
   "execution_count": 5,
   "metadata": {},
   "outputs": [
    {
     "data": {
      "text/html": [
       "<div>\n",
       "<style>\n",
       "    .dataframe thead tr:only-child th {\n",
       "        text-align: right;\n",
       "    }\n",
       "\n",
       "    .dataframe thead th {\n",
       "        text-align: left;\n",
       "    }\n",
       "\n",
       "    .dataframe tbody tr th {\n",
       "        vertical-align: top;\n",
       "    }\n",
       "</style>\n",
       "<table border=\"1\" class=\"dataframe\">\n",
       "  <thead>\n",
       "    <tr style=\"text-align: right;\">\n",
       "      <th></th>\n",
       "      <th>temperature</th>\n",
       "      <th>heart_rate</th>\n",
       "    </tr>\n",
       "  </thead>\n",
       "  <tbody>\n",
       "    <tr>\n",
       "      <th>count</th>\n",
       "      <td>130.000000</td>\n",
       "      <td>130.000000</td>\n",
       "    </tr>\n",
       "    <tr>\n",
       "      <th>mean</th>\n",
       "      <td>98.249231</td>\n",
       "      <td>73.761538</td>\n",
       "    </tr>\n",
       "    <tr>\n",
       "      <th>std</th>\n",
       "      <td>0.733183</td>\n",
       "      <td>7.062077</td>\n",
       "    </tr>\n",
       "    <tr>\n",
       "      <th>min</th>\n",
       "      <td>96.300000</td>\n",
       "      <td>57.000000</td>\n",
       "    </tr>\n",
       "    <tr>\n",
       "      <th>25%</th>\n",
       "      <td>97.800000</td>\n",
       "      <td>69.000000</td>\n",
       "    </tr>\n",
       "    <tr>\n",
       "      <th>50%</th>\n",
       "      <td>98.300000</td>\n",
       "      <td>74.000000</td>\n",
       "    </tr>\n",
       "    <tr>\n",
       "      <th>75%</th>\n",
       "      <td>98.700000</td>\n",
       "      <td>79.000000</td>\n",
       "    </tr>\n",
       "    <tr>\n",
       "      <th>max</th>\n",
       "      <td>100.800000</td>\n",
       "      <td>89.000000</td>\n",
       "    </tr>\n",
       "  </tbody>\n",
       "</table>\n",
       "</div>"
      ],
      "text/plain": [
       "       temperature  heart_rate\n",
       "count   130.000000  130.000000\n",
       "mean     98.249231   73.761538\n",
       "std       0.733183    7.062077\n",
       "min      96.300000   57.000000\n",
       "25%      97.800000   69.000000\n",
       "50%      98.300000   74.000000\n",
       "75%      98.700000   79.000000\n",
       "max     100.800000   89.000000"
      ]
     },
     "execution_count": 5,
     "metadata": {},
     "output_type": "execute_result"
    }
   ],
   "source": [
    "df.describe()"
   ]
  },
  {
   "cell_type": "markdown",
   "metadata": {},
   "source": [
    "### Plot the histogram of the Temperature data "
   ]
  },
  {
   "cell_type": "code",
   "execution_count": 6,
   "metadata": {},
   "outputs": [
    {
     "data": {
      "image/png": "[encoded data removed]",
      "text/plain": [
       "<matplotlib.figure.Figure at 0x1a0fbd17f0>"
      ]
     },
     "metadata": {},
     "output_type": "display_data"
    }
   ],
   "source": [
    "_ = plt.hist(df.temperature, bins=12)\n",
    "_ = plt.xlabel('Temperature (F)')\n",
    "_ = plt.ylabel('Number of samples')\n",
    "_ = plt.show()"
   ]
  },
  {
   "cell_type": "markdown",
   "metadata": {},
   "source": [
    "The histogram looks like a normal distribution (bell curve), a bit skewed to the left."
   ]
  },
  {
   "cell_type": "markdown",
   "metadata": {},
   "source": [
    "### Plot the CDF of the Temperature data and of the normal distribution"
   ]
  },
  {
   "cell_type": "markdown",
   "metadata": {},
   "source": [
    "Get the mean and standard deviation of the sample to generate the normal distribution"
   ]
  },
  {
   "cell_type": "code",
   "execution_count": 7,
   "metadata": {
    "collapsed": true
   },
   "outputs": [],
   "source": [
    "m = df.temperature.mean()\n",
    "s = df.temperature.std()\n",
    "n = df.temperature.count()"
   ]
  },
  {
   "cell_type": "markdown",
   "metadata": {},
   "source": [
    "Plot the Cumulative Distribution Function"
   ]
  },
  {
   "cell_type": "code",
   "execution_count": 8,
   "metadata": {},
   "outputs": [
    {
     "data": {
      "image/png": "[encoded data removed]",
      "text/plain": [
       "<matplotlib.figure.Figure at 0x1a14c07748>"
      ]
     },
     "metadata": {},
     "output_type": "display_data"
    }
   ],
   "source": [
    "xd = np.sort(df.temperature)\n",
    "xn = np.random.normal(m,s,size=n)\n",
    "xn = np.sort(xn)\n",
    "y = np.arange(1,n+1)/(n+1)\n",
    "_ = plt.plot(xd, y, marker='.', linestyle='none')\n",
    "_ = plt.plot(xn, y)\n",
    "_ = plt.xlabel('Temperature (F)')\n",
    "_ = plt.ylabel('CDF')\n",
    "_ = plt.legend(('Temperature sample','Normal distribution'))\n",
    "_ = plt.title('Compare CDF sample to Normal distribution')\n",
    "plt.margins(0.02)\n",
    "_ = plt.show()"
   ]
  },
  {
   "cell_type": "markdown",
   "metadata": {},
   "source": [
    "The temperature sample is very close to the normal distribution."
   ]
  },
  {
   "cell_type": "markdown",
   "metadata": {},
   "source": [
    "### Plot the quantile-quantile of the Temperature data vs. the normal distribution"
   ]
  },
  {
   "cell_type": "code",
   "execution_count": 9,
   "metadata": {},
   "outputs": [
    {
     "data": {
      "image/png": "[encoded data removed]",
      "text/plain": [
       "<matplotlib.figure.Figure at 0x1a17ee1a90>"
      ]
     },
     "metadata": {},
     "output_type": "display_data"
    }
   ],
   "source": [
    "_ = plt.plot((xn-m)/s, (xd-m)/s , marker='.', linestyle='none')\n",
    "_ = plt.plot([-3,3],[-3,3])\n",
    "_ = plt.xlim(-3, 3)\n",
    "_ = plt.ylim(-3, 3)\n",
    "_ = plt.xlabel('Normal distribution')\n",
    "_ = plt.ylabel('Data sample')\n",
    "_ = plt.legend(('Temperature sample','Normal distribution'))\n",
    "_ = plt.title('Q-Q plot')\n",
    "_ = plt.show()"
   ]
  },
  {
   "cell_type": "markdown",
   "metadata": {},
   "source": [
    "Here again, the Temperature data is close to the normal distribution."
   ]
  },
  {
   "cell_type": "markdown",
   "metadata": {},
   "source": [
    "### In conclusion: Yes, the distribution of body temperature is normal."
   ]
  },
  {
   "cell_type": "markdown",
   "metadata": {},
   "source": [
    "# 2. Is the sample size large? Are the observations independent?"
   ]
  },
  {
   "cell_type": "markdown",
   "metadata": {},
   "source": [
    "The sample size is 130.\n",
    "### Yes, the sample size is large because it's over 30.\n",
    "### Yes, the observations are independent, because the sample size is less than 10% of the population."
   ]
  },
  {
   "cell_type": "markdown",
   "metadata": {},
   "source": [
    "# 3. Is the true population mean really 98.6 degrees F?"
   ]
  },
  {
   "cell_type": "markdown",
   "metadata": {},
   "source": [
    "### First, try bootstrap hypothesis test"
   ]
  },
  {
   "cell_type": "markdown",
   "metadata": {},
   "source": [
    "The null hypothesis is : the mean is 98.6 degrees.\n",
    "\n",
    "The alternate hypothesis is: the mean is different than 98.6\n",
    "\n",
    "This is a 2 tails problem, because in the alternate hypothesis, the temperature mean can be either higher or lower.\n",
    "\n",
    "I set the significance level at 0.05 (5%)"
   ]
  },
  {
   "cell_type": "code",
   "execution_count": 10,
   "metadata": {},
   "outputs": [
    {
     "name": "stdout",
     "output_type": "stream",
     "text": [
      "p_value of null hypothesis = 0.0\n"
     ]
    }
   ],
   "source": [
    "# Shift the data to center it on the hypothesis mean \n",
    "MU = 98.6\n",
    "t_shift = df.temperature - m + MU\n",
    "\n",
    "# Initialize bs_replicate\n",
    "size=1000\n",
    "bs_replicate = np.empty(size)\n",
    "\n",
    "# bootstrap loop : Draw 1000 times a sample of 130 temperatures and calculate the mean (bootstrap replicate)\n",
    "for i in range(size):\n",
    "    bs_sample = np.empty(n)\n",
    "    bs_sample = np.random.choice(t_shift, size=n)\n",
    "    bs_replicate[i] = np.mean(bs_sample)\n",
    "    \n",
    "# compute p_value = (proportion of replicates < m) *2 (2 tails problem)\n",
    "p_value_bs = 2*np.sum(bs_replicate<m)/size\n",
    "\n",
    "print('p_value of null hypothesis =', p_value_bs)"
   ]
  },
  {
   "cell_type": "markdown",
   "metadata": {},
   "source": [
    "p_value is less than the significance level, so I reject the null hypothesis that the population mean temperature is 98.6 degrees."
   ]
  },
  {
   "cell_type": "markdown",
   "metadata": {},
   "source": [
    "### Now, let's try frequentist statistical testing. Would you use a one-sample or two-sample test? Why?"
   ]
  },
  {
   "cell_type": "markdown",
   "metadata": {},
   "source": [
    "I will use a one-sample test because the null hypothesis is: my sample mean value is not different from the theoretical value.\n",
    "\n",
    "I would use a two-sample test if the null hypothesis was to test the homogeneity of 2 samples."
   ]
  },
  {
   "cell_type": "markdown",
   "metadata": {},
   "source": [
    "Because we don't have the real standard deviation of the population mean, we approximate it with the sample standard deviation. \n",
    "\n",
    "To get the p_value, we need to get the cumulative normal distribution value for $z$ score, and we multiply it by 2 because it's a 2 tails problem."
   ]
  },
  {
   "cell_type": "code",
   "execution_count": 11,
   "metadata": {},
   "outputs": [
    {
     "name": "stdout",
     "output_type": "stream",
     "text": [
      "z_score =  -5.45482329236\n",
      "p_value(z score) =  4.90215701411e-08\n"
     ]
    }
   ],
   "source": [
    "z_score = (m-MU)/(s/np.sqrt(n))\n",
    "p_value_z = 2*stats.norm.cdf(z_score)\n",
    "print('z_score = ', z_score)\n",
    "print('p_value(z score) = ', p_value_z)"
   ]
  },
  {
   "cell_type": "markdown",
   "metadata": {},
   "source": [
    "p_value is under the significance level, so I reject the null hypothesis that the population mean is 98.6 degrees."
   ]
  },
  {
   "cell_type": "markdown",
   "metadata": {},
   "source": [
    "### In this situation, is it appropriate to use the  $t$  or  $z$  statistic?"
   ]
  },
  {
   "cell_type": "markdown",
   "metadata": {},
   "source": [
    "Although we don't know the standard deviation of the population, because the sample size is larger than 30, we can consider that the standard deviation of the sample is a good estimation of the standard deviation of the population.\n",
    "\n",
    "So I can use $z$ statistic."
   ]
  },
  {
   "cell_type": "markdown",
   "metadata": {},
   "source": [
    "### Now try using the other test. How is the result be different? Why?"
   ]
  },
  {
   "cell_type": "code",
   "execution_count": 12,
   "metadata": {},
   "outputs": [
    {
     "name": "stdout",
     "output_type": "stream",
     "text": [
      "t_statistic =  -5.45482329236\n",
      "p_value(t stat) =  2.41063204156e-07\n"
     ]
    }
   ],
   "source": [
    "t_statistic, p_value_t = stats.ttest_1samp(df.temperature, MU)\n",
    "\n",
    "print('t_statistic = ', t_statistic)\n",
    "print('p_value(t stat) = ', p_value_t)\n"
   ]
  },
  {
   "cell_type": "markdown",
   "metadata": {},
   "source": [
    "The p_value is higher with the $t$ distribution because the tails of the $t$ distribution are thicker than the normal distribution.\n",
    "\n",
    "However, the conclusion is the same. p_value is under the significance level, I reject the null hypothesis that the population mean is 98.6 degrees."
   ]
  },
  {
   "cell_type": "markdown",
   "metadata": {},
   "source": [
    "# 4. Draw a small sample of size 10 from the data and repeat both frequentist tests."
   ]
  },
  {
   "cell_type": "code",
   "execution_count": 13,
   "metadata": {},
   "outputs": [
    {
     "name": "stdout",
     "output_type": "stream",
     "text": [
      "z_score =  -1.78417480723\n",
      "p_value(z score) =  0.074395264608\n",
      "t_statistic =  -1.69261684042\n",
      "p_value(t stat) =  0.124778989213\n"
     ]
    }
   ],
   "source": [
    "t10 = np.random.choice(df.temperature,10)\n",
    "\n",
    "z_score = (np.mean(t10)-MU)/(np.std(t10)/np.sqrt(10))\n",
    "p_value_z = 2*stats.norm.cdf(z_score)\n",
    "print('z_score = ', z_score)\n",
    "print('p_value(z score) = ', p_value_z)\n",
    "\n",
    "\n",
    "t_statistic, p_value_t = stats.ttest_1samp(t10, MU)\n",
    "\n",
    "print('t_statistic = ', t_statistic)\n",
    "print('p_value(t stat) = ', p_value_t)\n"
   ]
  },
  {
   "cell_type": "markdown",
   "metadata": {},
   "source": [
    "### Which one is the correct one to use?"
   ]
  },
  {
   "cell_type": "markdown",
   "metadata": {},
   "source": [
    "Because the sample size is small, the sample standard deviation is not a good estimation of the real population standard deviation. In this case, we should use the $t$ statistic."
   ]
  },
  {
   "cell_type": "markdown",
   "metadata": {},
   "source": [
    "### What do you notice? What does this tell you about the difference in application of the  $t$  and  $z$  statistic?"
   ]
  },
  {
   "cell_type": "markdown",
   "metadata": {},
   "source": [
    "Because the sample size is small (less than 30), we should check if this sample is normal.\n",
    "\n",
    "The tails of the $t$ distribution are thicker than the tails of the normal distribution to \"compensate\" the approximation of the standard deviation.\n",
    "With a small sample size, it's more accurate to use the $t$ distribution.\n",
    "\n",
    "When the sample size is big, the degree of freedom is high, and the $t$ distribution becomes closer and closer to the normal distribution.\n",
    "With a large sample size (>30), we can use the $z$ statistic."
   ]
  },
  {
   "cell_type": "markdown",
   "metadata": {},
   "source": [
    "# 5. At what temperature should we consider someone's temperature to be \"abnormal\"?\n",
    "### As in the previous example, try calculating everything using the boostrap approach, as well as the frequentist approach.\n",
    "### Start by computing the margin of error and confidence interval. When calculating the confidence interval, keep in mind that you should use the appropriate formula for one draw, and not N draws."
   ]
  },
  {
   "cell_type": "markdown",
   "metadata": {},
   "source": [
    "I set the significance level at 0.05"
   ]
  },
  {
   "cell_type": "code",
   "execution_count": 14,
   "metadata": {},
   "outputs": [
    {
     "name": "stdout",
     "output_type": "stream",
     "text": [
      "95% normal temperature range =  [ 96.7225  99.4775]\n"
     ]
    }
   ],
   "source": [
    "# Calculate the 95% normal temperature range from the original dataset\n",
    "\n",
    "ci = np.percentile(df.temperature,[2.5,97.5])\n",
    "\n",
    "print('95% normal temperature range = ', ci)"
   ]
  },
  {
   "cell_type": "code",
   "execution_count": 15,
   "metadata": {},
   "outputs": [
    {
     "name": "stdout",
     "output_type": "stream",
     "text": [
      "Lowest normal temperature with 95% confidence interval =  [ 96.4]\n",
      "Highest normal temperature with 95% confidence interval =  [ 100.]\n"
     ]
    }
   ],
   "source": [
    "# Initialize bs_replicate\n",
    "# 2 replicates for each bootstrap sample: the 95% interval of normal temperature\n",
    "\n",
    "size=1000\n",
    "bs_replicate_li = np.empty(size)\n",
    "bs_replicate_hi = np.empty(size)\n",
    "\n",
    "# bootstrap loop\n",
    "for i in range(size):\n",
    "    bs_sample = np.empty(n)\n",
    "    bs_sample = np.random.choice(df.temperature, size=n)\n",
    "    bs_replicate_li[i] = np.percentile(bs_sample,[2.5])\n",
    "    bs_replicate_hi[i] = np.percentile(bs_sample,[97.5])\n",
    "    \n",
    "# Calculate the 5% confidence interval\n",
    "ci_li = np.percentile(bs_replicate_li,[5])\n",
    "ci_hi = np.percentile(bs_replicate_hi,[95])\n",
    "\n",
    "print('Lowest normal temperature with 95% confidence interval = ', ci_li)\n",
    "print('Highest normal temperature with 95% confidence interval = ', ci_hi)\n"
   ]
  },
  {
   "cell_type": "markdown",
   "metadata": {},
   "source": [
    "# 6. Is there a significant difference between males and females in normal temperature?\n",
    "### What testing approach did you use and why?"
   ]
  },
  {
   "cell_type": "markdown",
   "metadata": {},
   "source": [
    "The null hypothesis is homogeneity: male and female have the same temperature, in other words, the difference of means is 0.\n",
    "\n",
    "The alternative hypothesis is : the difference of means is not 0.\n",
    "\n",
    "I set the significance level at 0.05."
   ]
  },
  {
   "cell_type": "code",
   "execution_count": 16,
   "metadata": {},
   "outputs": [
    {
     "name": "stdout",
     "output_type": "stream",
     "text": [
      "Number of female values = 65\n",
      "Number of male values = 65\n"
     ]
    }
   ],
   "source": [
    "# First, split the dataset\n",
    "tf = df.temperature[df.gender == 'F']\n",
    "tm = df.temperature[df.gender == 'M']\n",
    "\n",
    "print('Number of female values =', len(tf))\n",
    "print('Number of male values =', len(tm))\n"
   ]
  },
  {
   "cell_type": "markdown",
   "metadata": {},
   "source": [
    "The number of samples for each category is large, so the distributions can be considered normal.\n",
    "\n",
    "I can use $z$ score."
   ]
  },
  {
   "cell_type": "markdown",
   "metadata": {},
   "source": [
    "Calculate the $z$ score for the difference of sample means"
   ]
  },
  {
   "cell_type": "code",
   "execution_count": 17,
   "metadata": {},
   "outputs": [
    {
     "name": "stdout",
     "output_type": "stream",
     "text": [
      "z_score =  -2.30322028919\n",
      "p_value =  0.0212664518301\n"
     ]
    }
   ],
   "source": [
    "z_score = (np.mean(tf)-np.mean(tm)) / np.sqrt((np.var(tf)/len(tf)) + (np.var(tm)/len(tm)))\n",
    "if z_score>0:\n",
    "    z_score=-z_score\n",
    "print('z_score = ', z_score)\n",
    "\n",
    "p_value = 2* stats.norm.cdf(z_score)\n",
    "print('p_value = ', p_value)"
   ]
  },
  {
   "cell_type": "markdown",
   "metadata": {},
   "source": [
    "p_value is smaller than the significance level, so I can reject the null hypothesis that male and female have the same temperature."
   ]
  },
  {
   "cell_type": "markdown",
   "metadata": {},
   "source": [
    "Let's try the $t$ statistic:\n",
    "\n",
    "ttest_ind tests the null hypothesis that 2 independent samples have the same mean."
   ]
  },
  {
   "cell_type": "code",
   "execution_count": 18,
   "metadata": {},
   "outputs": [
    {
     "data": {
      "text/plain": [
       "Ttest_indResult(statistic=2.2854345381656112, pvalue=0.023938264182934196)"
      ]
     },
     "execution_count": 18,
     "metadata": {},
     "output_type": "execute_result"
    }
   ],
   "source": [
    "stats.ttest_ind(tf, tm, equal_var=False)"
   ]
  },
  {
   "cell_type": "markdown",
   "metadata": {},
   "source": [
    "p_value is smaller than the significance level, so I can reject the null hypothesis that male and female have the same temperature."
   ]
  },
  {
   "cell_type": "markdown",
   "metadata": {},
   "source": [
    "### Write a story with your conclusion in the context of the original problem."
   ]
  },
  {
   "cell_type": "markdown",
   "metadata": {},
   "source": [
    "Ask anyone what is the normal body temperature, and they will tell you 98.6 degrees. But we would like to know if this value is true, what is an \"abnormal\" temperature, and if there is a difference between men and women temperatures.\n",
    "Let's take a random sample of 65 women temperatures and 65 men temperatures.\n",
    "\n",
    "The temperature distribution is normal, the samples are random and independent.\n",
    "So we can use inferential statistics.\n",
    "\n",
    "Let's answer our main question: Is the temperature mean 98.6 degrees?\n",
    "The null hypothesis is: the temperature mean is 98.6\n",
    "The alternate hypothesis is: the temperature mean is not 98.6\n",
    "Using different techniques, I found that under the null hypothesis, the probability of having my sample mean is very low. So I reject the null hypothesis, the temperature mean is not 98.6 degrees.\n",
    "\n",
    "What temperature should be considered as \"abnormal\"?\n",
    "95% of the sample temperatures are between 96.7 and 99.5 degrees.\n",
    "With a 95% confidence interval, the lowest \"normal\" temperature is 96.4 degrees and the highest \"normal\" temperature is 100 degrees. Temperatures below 96.4 degrees and above 100 degrees are \"abnormal\"\n",
    "\n",
    "Is there a temperature difference between men and women?\n",
    "The null hypothesis is: the temperature mean is the same\n",
    "The alternate hypothesis is: the temperature mean is different\n",
    "Under the null hypothesis, the probability of having my sample mean difference is lower than the significance level. So I reject the null hypothesis, the temperature mean is different for men and women."
   ]
  }
 ],
 "metadata": {
  "kernelspec": {
   "display_name": "Python 3",
   "language": "python",
   "name": "python3"
  },
  "language_info": {
   "codemirror_mode": {
    "name": "ipython",
    "version": 3
   },
   "file_extension": ".py",
   "mimetype": "text/x-python",
   "name": "python",
   "nbconvert_exporter": "python",
   "pygments_lexer": "ipython3",
   "version": "3.6.3"
  }
 },
 "nbformat": 4,
 "nbformat_minor": 1
}
