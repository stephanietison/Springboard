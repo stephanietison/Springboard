{
 "cells": [
  {
   "cell_type": "markdown",
   "metadata": {},
   "source": [
    "# Relax Data Science Challenge"
   ]
  },
  {
   "cell_type": "code",
   "execution_count": 1,
   "metadata": {
    "collapsed": true
   },
   "outputs": [],
   "source": [
    "import numpy as np\n",
    "import pandas as pd\n",
    "import matplotlib.pyplot as plt\n",
    "plt.style.use('ggplot')\n",
    "from scipy.stats import chi2_contingency"
   ]
  },
  {
   "cell_type": "markdown",
   "metadata": {},
   "source": [
    "## Define an 'adopted user'"
   ]
  },
  {
   "cell_type": "markdown",
   "metadata": {},
   "source": [
    "First, I will read the data, and manipulate it to have a column 'adopted' for each user row"
   ]
  },
  {
   "cell_type": "code",
   "execution_count": 2,
   "metadata": {
    "collapsed": true
   },
   "outputs": [],
   "source": [
    "# Read user_engagement in user_engage dataframe\n",
    "user_engage = pd.read_csv('takehome_user_engagement.csv', header=0, parse_dates=True, \n",
    "                          index_col='time_stamp')"
   ]
  },
  {
   "cell_type": "code",
   "execution_count": 3,
   "metadata": {},
   "outputs": [],
   "source": [
    "# Extract day from each time_stamp\n",
    "user_engage['day'] = user_engage.index.floor('D')"
   ]
  },
  {
   "cell_type": "code",
   "execution_count": 4,
   "metadata": {},
   "outputs": [],
   "source": [
    "# Drop visits from the same user occuring on the same day \n",
    "# because we need visits on separate days\n",
    "user_engage = user_engage.drop_duplicates()"
   ]
  },
  {
   "cell_type": "code",
   "execution_count": 5,
   "metadata": {},
   "outputs": [],
   "source": [
    "# Pivot table to get the visits per user (columns) per day (index)\n",
    "# Since we dropped the duplicates, we can only have 0 or 1 in this table\n",
    "user_engage = user_engage.pivot_table(index='day', columns='user_id', \n",
    "                                      values='visited', aggfunc='sum').fillna(0)"
   ]
  },
  {
   "cell_type": "code",
   "execution_count": 6,
   "metadata": {},
   "outputs": [],
   "source": [
    "# calculate the number of visits for each user in a 7 days rolling window\n",
    "user_engage = user_engage.rolling('7D').sum()"
   ]
  },
  {
   "cell_type": "code",
   "execution_count": 7,
   "metadata": {},
   "outputs": [],
   "source": [
    "# Unpivot the table to have a column of users\n",
    "user_engage = user_engage.melt(var_name='user_id',value_name='visited_in_7D')"
   ]
  },
  {
   "cell_type": "code",
   "execution_count": 8,
   "metadata": {},
   "outputs": [],
   "source": [
    "# Group by users and keep only the maximum number of visits on a 7 day rolling window\n",
    "user_engage = user_engage.groupby('user_id').max()"
   ]
  },
  {
   "cell_type": "code",
   "execution_count": 9,
   "metadata": {},
   "outputs": [
    {
     "name": "stderr",
     "output_type": "stream",
     "text": [
      "/Users/tisonbertrand/anaconda3/lib/python3.6/site-packages/ipykernel_launcher.py:3: SettingWithCopyWarning: \n",
      "A value is trying to be set on a copy of a slice from a DataFrame\n",
      "\n",
      "See the caveats in the documentation: http://pandas.pydata.org/pandas-docs/stable/indexing.html#indexing-view-versus-copy\n",
      "  This is separate from the ipykernel package so we can avoid doing imports until\n"
     ]
    }
   ],
   "source": [
    "# Add the column'adopted' if the maximum number of visits is at least 3\n",
    "user_engage['adopted'] = 0\n",
    "user_engage.adopted[user_engage.visited_in_7D>2] = 1"
   ]
  },
  {
   "cell_type": "code",
   "execution_count": 10,
   "metadata": {},
   "outputs": [],
   "source": [
    "# Drop the column 'visited_in_7D'\n",
    "user_engage = user_engage.drop(columns='visited_in_7D')"
   ]
  },
  {
   "cell_type": "code",
   "execution_count": 11,
   "metadata": {},
   "outputs": [],
   "source": [
    "# Read the users data in users dataframe\n",
    "users = pd.read_csv('takehome_users.csv', header=0, parse_dates=True, \n",
    "                    encoding='mac_roman', index_col='object_id')"
   ]
  },
  {
   "cell_type": "code",
   "execution_count": 12,
   "metadata": {},
   "outputs": [],
   "source": [
    "# join user_engage (adopted column) to users dataframe \n",
    "users = users.join(user_engage, how='left')"
   ]
  },
  {
   "cell_type": "code",
   "execution_count": 13,
   "metadata": {
    "collapsed": true
   },
   "outputs": [],
   "source": [
    "# Fill NaN with 0 for users who are not in user_engage table \n",
    "# (they did not visit at all)\n",
    "users.adopted = users.adopted.fillna(0)"
   ]
  },
  {
   "cell_type": "code",
   "execution_count": 14,
   "metadata": {
    "collapsed": true
   },
   "outputs": [],
   "source": [
    "# Change creation_time into datetime \n",
    "users.creation_time = pd.to_datetime(users.creation_time)"
   ]
  },
  {
   "cell_type": "code",
   "execution_count": 15,
   "metadata": {},
   "outputs": [],
   "source": [
    "# Change last_session_user_time into a timestamp\n",
    "for idx in users.index.values:\n",
    "    if pd.notna(users.loc[idx,'last_session_creation_time']):\n",
    "        users.loc[idx,'last_session_creation_time'] = pd.Timestamp.utcfromtimestamp(users.loc[idx,'last_session_creation_time'])\n",
    "        "
   ]
  },
  {
   "cell_type": "code",
   "execution_count": 16,
   "metadata": {
    "collapsed": true
   },
   "outputs": [],
   "source": [
    "# Replace missing invited_by_user_id by 0\n",
    "# So we can see this \"no invite\" feature in the exploration\n",
    "#users.invited_by_user_id = users.invited_by_user_id.fillna(0)"
   ]
  },
  {
   "cell_type": "code",
   "execution_count": 17,
   "metadata": {
    "collapsed": true
   },
   "outputs": [],
   "source": [
    "# Add non_adopted column to ease data exploration \n",
    "users['non_adopted'] = 1-users.adopted"
   ]
  },
  {
   "cell_type": "code",
   "execution_count": 18,
   "metadata": {},
   "outputs": [
    {
     "data": {
      "text/html": [
       "<div>\n",
       "<style scoped>\n",
       "    .dataframe tbody tr th:only-of-type {\n",
       "        vertical-align: middle;\n",
       "    }\n",
       "\n",
       "    .dataframe tbody tr th {\n",
       "        vertical-align: top;\n",
       "    }\n",
       "\n",
       "    .dataframe thead th {\n",
       "        text-align: right;\n",
       "    }\n",
       "</style>\n",
       "<table border=\"1\" class=\"dataframe\">\n",
       "  <thead>\n",
       "    <tr style=\"text-align: right;\">\n",
       "      <th>object_id</th>\n",
       "      <th>1</th>\n",
       "      <th>2</th>\n",
       "      <th>3</th>\n",
       "      <th>4</th>\n",
       "      <th>5</th>\n",
       "    </tr>\n",
       "  </thead>\n",
       "  <tbody>\n",
       "    <tr>\n",
       "      <th>creation_time</th>\n",
       "      <td>2014-04-22 03:53:30</td>\n",
       "      <td>2013-11-15 03:45:04</td>\n",
       "      <td>2013-03-19 23:14:52</td>\n",
       "      <td>2013-05-21 08:09:28</td>\n",
       "      <td>2013-01-17 10:14:20</td>\n",
       "    </tr>\n",
       "    <tr>\n",
       "      <th>name</th>\n",
       "      <td>Clausen August</td>\n",
       "      <td>Poole Matthew</td>\n",
       "      <td>Bottrill Mitchell</td>\n",
       "      <td>Clausen Nicklas</td>\n",
       "      <td>Raw Grace</td>\n",
       "    </tr>\n",
       "    <tr>\n",
       "      <th>email</th>\n",
       "      <td>AugustCClausen@yahoo.com</td>\n",
       "      <td>MatthewPoole@gustr.com</td>\n",
       "      <td>MitchellBottrill@gustr.com</td>\n",
       "      <td>NicklasSClausen@yahoo.com</td>\n",
       "      <td>GraceRaw@yahoo.com</td>\n",
       "    </tr>\n",
       "    <tr>\n",
       "      <th>creation_source</th>\n",
       "      <td>GUEST_INVITE</td>\n",
       "      <td>ORG_INVITE</td>\n",
       "      <td>ORG_INVITE</td>\n",
       "      <td>GUEST_INVITE</td>\n",
       "      <td>GUEST_INVITE</td>\n",
       "    </tr>\n",
       "    <tr>\n",
       "      <th>last_session_creation_time</th>\n",
       "      <td>2014-04-22 03:53:30</td>\n",
       "      <td>2014-03-31 03:45:04</td>\n",
       "      <td>2013-03-19 23:14:52</td>\n",
       "      <td>2013-05-22 08:09:28</td>\n",
       "      <td>2013-01-22 10:14:20</td>\n",
       "    </tr>\n",
       "    <tr>\n",
       "      <th>opted_in_to_mailing_list</th>\n",
       "      <td>1</td>\n",
       "      <td>0</td>\n",
       "      <td>0</td>\n",
       "      <td>0</td>\n",
       "      <td>0</td>\n",
       "    </tr>\n",
       "    <tr>\n",
       "      <th>enabled_for_marketing_drip</th>\n",
       "      <td>0</td>\n",
       "      <td>0</td>\n",
       "      <td>0</td>\n",
       "      <td>0</td>\n",
       "      <td>0</td>\n",
       "    </tr>\n",
       "    <tr>\n",
       "      <th>org_id</th>\n",
       "      <td>11</td>\n",
       "      <td>1</td>\n",
       "      <td>94</td>\n",
       "      <td>1</td>\n",
       "      <td>193</td>\n",
       "    </tr>\n",
       "    <tr>\n",
       "      <th>invited_by_user_id</th>\n",
       "      <td>10803</td>\n",
       "      <td>316</td>\n",
       "      <td>1525</td>\n",
       "      <td>5151</td>\n",
       "      <td>5240</td>\n",
       "    </tr>\n",
       "    <tr>\n",
       "      <th>adopted</th>\n",
       "      <td>0</td>\n",
       "      <td>1</td>\n",
       "      <td>0</td>\n",
       "      <td>0</td>\n",
       "      <td>0</td>\n",
       "    </tr>\n",
       "    <tr>\n",
       "      <th>non_adopted</th>\n",
       "      <td>1</td>\n",
       "      <td>0</td>\n",
       "      <td>1</td>\n",
       "      <td>1</td>\n",
       "      <td>1</td>\n",
       "    </tr>\n",
       "  </tbody>\n",
       "</table>\n",
       "</div>"
      ],
      "text/plain": [
       "object_id                                          1                       2  \\\n",
       "creation_time                    2014-04-22 03:53:30     2013-11-15 03:45:04   \n",
       "name                                  Clausen August           Poole Matthew   \n",
       "email                       AugustCClausen@yahoo.com  MatthewPoole@gustr.com   \n",
       "creation_source                         GUEST_INVITE              ORG_INVITE   \n",
       "last_session_creation_time       2014-04-22 03:53:30     2014-03-31 03:45:04   \n",
       "opted_in_to_mailing_list                           1                       0   \n",
       "enabled_for_marketing_drip                         0                       0   \n",
       "org_id                                            11                       1   \n",
       "invited_by_user_id                             10803                     316   \n",
       "adopted                                            0                       1   \n",
       "non_adopted                                        1                       0   \n",
       "\n",
       "object_id                                            3  \\\n",
       "creation_time                      2013-03-19 23:14:52   \n",
       "name                                 Bottrill Mitchell   \n",
       "email                       MitchellBottrill@gustr.com   \n",
       "creation_source                             ORG_INVITE   \n",
       "last_session_creation_time         2013-03-19 23:14:52   \n",
       "opted_in_to_mailing_list                             0   \n",
       "enabled_for_marketing_drip                           0   \n",
       "org_id                                              94   \n",
       "invited_by_user_id                                1525   \n",
       "adopted                                              0   \n",
       "non_adopted                                          1   \n",
       "\n",
       "object_id                                           4                    5  \n",
       "creation_time                     2013-05-21 08:09:28  2013-01-17 10:14:20  \n",
       "name                                  Clausen Nicklas            Raw Grace  \n",
       "email                       NicklasSClausen@yahoo.com   GraceRaw@yahoo.com  \n",
       "creation_source                          GUEST_INVITE         GUEST_INVITE  \n",
       "last_session_creation_time        2013-05-22 08:09:28  2013-01-22 10:14:20  \n",
       "opted_in_to_mailing_list                            0                    0  \n",
       "enabled_for_marketing_drip                          0                    0  \n",
       "org_id                                              1                  193  \n",
       "invited_by_user_id                               5151                 5240  \n",
       "adopted                                             0                    0  \n",
       "non_adopted                                         1                    1  "
      ]
     },
     "execution_count": 18,
     "metadata": {},
     "output_type": "execute_result"
    }
   ],
   "source": [
    "users.head().T"
   ]
  },
  {
   "cell_type": "markdown",
   "metadata": {},
   "source": [
    "## Explore users data"
   ]
  },
  {
   "cell_type": "markdown",
   "metadata": {},
   "source": [
    "### How many users are adopted?"
   ]
  },
  {
   "cell_type": "code",
   "execution_count": 19,
   "metadata": {
    "scrolled": false
   },
   "outputs": [
    {
     "data": {
      "image/png": "[encoded data removed]",
      "text/plain": [
       "<Figure size 360x360 with 1 Axes>"
      ]
     },
     "metadata": {},
     "output_type": "display_data"
    }
   ],
   "source": [
    "# pie plot of adopted vs. non adopted users\n",
    "plt.figure(figsize=(5,5))\n",
    "adopted_prop = users.adopted.value_counts().sort_index()\n",
    "plt.pie(adopted_prop.values,labels=['non adopted','adopted'],colors=['tomato','mediumseagreen'], autopct='%1.1f%%')\n",
    "plt.title('Proportion of adopted users')\n",
    "plt.show()"
   ]
  },
  {
   "cell_type": "markdown",
   "metadata": {},
   "source": [
    "### What are the factors to predict user adoption?"
   ]
  },
  {
   "cell_type": "code",
   "execution_count": 20,
   "metadata": {
    "scrolled": true
   },
   "outputs": [],
   "source": [
    "def plot_time(users,col):\n",
    "    \"\"\"Plot the number of adopted and non_adopted users vs time\"\"\"\n",
    "    t = pd.DataFrame(users[['adopted','non_adopted']].values, columns=['adopted', 'non_adopted'], index=users[col])\n",
    "    t = t.resample('M').sum().fillna(0)\n",
    "    plt.figure(figsize=(10,5))\n",
    "    plt.plot(t.index,t.adopted, color='mediumseagreen')\n",
    "    plt.plot(t.index,t.non_adopted, color='tomato')\n",
    "    plt.title('Users status vs ' + col)\n",
    "    plt.show()\n",
    "    return"
   ]
  },
  {
   "cell_type": "code",
   "execution_count": 21,
   "metadata": {
    "scrolled": true
   },
   "outputs": [
    {
     "name": "stderr",
     "output_type": "stream",
     "text": [
      "/Users/tisonbertrand/anaconda3/lib/python3.6/site-packages/pandas/plotting/_converter.py:129: FutureWarning: Using an implicitly registered datetime converter for a matplotlib plotting method. The converter was registered by pandas on import. Future versions of pandas will require you to explicitly register matplotlib converters.\n",
      "\n",
      "To register the converters:\n",
      "\t>>> from pandas.plotting import register_matplotlib_converters\n",
      "\t>>> register_matplotlib_converters()\n",
      "  warnings.warn(msg, FutureWarning)\n"
     ]
    },
    {
     "data": {
      "image/png": "[encoded data removed]",
      "text/plain": [
       "<Figure size 720x360 with 1 Axes>"
      ]
     },
     "metadata": {},
     "output_type": "display_data"
    }
   ],
   "source": [
    "plot_time(users,'creation_time')"
   ]
  },
  {
   "cell_type": "markdown",
   "metadata": {
    "collapsed": true
   },
   "source": [
    "The adopted users are stable. When the creation_time is more recent, the users are less likely to be adopted. But maybe they did not have enough time to be adopted.\n",
    "\n",
    "However, we can notice that the number of users who create an account has been constantly growing, and has almost doubled in the first 6 months of 2014. "
   ]
  },
  {
   "cell_type": "code",
   "execution_count": 22,
   "metadata": {
    "scrolled": true
   },
   "outputs": [
    {
     "data": {
      "image/png": "[encoded data removed]",
      "text/plain": [
       "<Figure size 720x360 with 1 Axes>"
      ]
     },
     "metadata": {},
     "output_type": "display_data"
    }
   ],
   "source": [
    "plot_time(users,'last_session_creation_time')"
   ]
  },
  {
   "cell_type": "markdown",
   "metadata": {},
   "source": [
    "In the recent logins, there is a high proportion of adopted users. This is not surprising that adopted users logged in recently.\n",
    "\n",
    "The high number of non adopted users who logged in recently matches the number of users recently created."
   ]
  },
  {
   "cell_type": "code",
   "execution_count": 23,
   "metadata": {
    "collapsed": true
   },
   "outputs": [],
   "source": [
    "def plot_cat(users,col):\n",
    "    \"\"\"Plot a bar plot of the adopted rate per category of users\"\"\"\n",
    "    c = users.groupby(col)[['adopted','non_adopted']].sum()\n",
    "    c['adoption_rate'] = c.adopted/(c.adopted+c.non_adopted)*100\n",
    "    plt.figure(figsize=(10,5))\n",
    "    plt.bar(c.index.values, c.adoption_rate.values, color='mediumseagreen')\n",
    "    plt.xticks(range(len(c.index.values)),c.index.values)\n",
    "    plt.ylabel('Adoption rate (%)')\n",
    "    plt.title('Adoption rate vs ' + col)\n",
    "    plt.show()"
   ]
  },
  {
   "cell_type": "code",
   "execution_count": 24,
   "metadata": {},
   "outputs": [
    {
     "data": {
      "image/png": "[encoded data removed]",
      "text/plain": [
       "<Figure size 720x360 with 1 Axes>"
      ]
     },
     "metadata": {},
     "output_type": "display_data"
    }
   ],
   "source": [
    "plot_cat(users,'creation_source')"
   ]
  },
  {
   "cell_type": "markdown",
   "metadata": {},
   "source": [
    "The best adoption rates are for GUEST_INVITE and SIGNUP_GOOGLE_AUTH.\n",
    "The worst adoption rate is for PERSONAL_PROJECTS\n",
    "\n",
    "Creation_source can be used to predict user adoption."
   ]
  },
  {
   "cell_type": "code",
   "execution_count": 25,
   "metadata": {
    "scrolled": false
   },
   "outputs": [
    {
     "data": {
      "image/png": "[encoded data removed]",
      "text/plain": [
       "<Figure size 720x360 with 1 Axes>"
      ]
     },
     "metadata": {},
     "output_type": "display_data"
    }
   ],
   "source": [
    "plot_cat(users,'opted_in_to_mailing_list')"
   ]
  },
  {
   "cell_type": "markdown",
   "metadata": {},
   "source": [
    "There is not much difference between these categories.\n",
    "\n",
    "Opted_in_to_mailing_list is not a good feature to predict user adoption"
   ]
  },
  {
   "cell_type": "code",
   "execution_count": 26,
   "metadata": {
    "scrolled": false
   },
   "outputs": [
    {
     "data": {
      "image/png": "[encoded data removed]",
      "text/plain": [
       "<Figure size 720x360 with 1 Axes>"
      ]
     },
     "metadata": {},
     "output_type": "display_data"
    }
   ],
   "source": [
    "plot_cat(users,'enabled_for_marketing_drip')"
   ]
  },
  {
   "cell_type": "markdown",
   "metadata": {},
   "source": [
    "There is not much difference between these categories.\n",
    "\n",
    "Enabled_for_marketing_drip is not a good feature to predict user adoption"
   ]
  },
  {
   "cell_type": "markdown",
   "metadata": {},
   "source": [
    "To see if the proportion of adopted is similar for each org_id, I will use chi2 contingency test."
   ]
  },
  {
   "cell_type": "code",
   "execution_count": 27,
   "metadata": {},
   "outputs": [
    {
     "name": "stdout",
     "output_type": "stream",
     "text": [
      "chi2: 539.010304, degree of freedom: 416, p_value: 0.000043\n"
     ]
    }
   ],
   "source": [
    "# First, get the contingency table: number of adopted / non_adopted for each org_id \n",
    "org_id = users.groupby('org_id')[['adopted','non_adopted']].sum()\n",
    "# Then, calculate the chi2 test\n",
    "chi2, p, dof, expected = chi2_contingency(org_id.values)\n",
    "print(\"chi2: {:f}, degree of freedom: {:d}, p_value: {:f}\".format(chi2,dof,p))"
   ]
  },
  {
   "cell_type": "markdown",
   "metadata": {},
   "source": [
    "These results show we can reject the null hypothesis that the proportion of adopted is similar for any org_id.\n",
    "\n",
    "The org_id can be used to predict user adoption."
   ]
  },
  {
   "cell_type": "code",
   "execution_count": 28,
   "metadata": {
    "scrolled": true
   },
   "outputs": [
    {
     "data": {
      "text/html": [
       "<div>\n",
       "<style scoped>\n",
       "    .dataframe tbody tr th:only-of-type {\n",
       "        vertical-align: middle;\n",
       "    }\n",
       "\n",
       "    .dataframe tbody tr th {\n",
       "        vertical-align: top;\n",
       "    }\n",
       "\n",
       "    .dataframe thead th {\n",
       "        text-align: right;\n",
       "    }\n",
       "</style>\n",
       "<table border=\"1\" class=\"dataframe\">\n",
       "  <thead>\n",
       "    <tr style=\"text-align: right;\">\n",
       "      <th></th>\n",
       "      <th>adopted</th>\n",
       "      <th>non_adopted</th>\n",
       "      <th>adoption_rate</th>\n",
       "    </tr>\n",
       "    <tr>\n",
       "      <th>org_id</th>\n",
       "      <th></th>\n",
       "      <th></th>\n",
       "      <th></th>\n",
       "    </tr>\n",
       "  </thead>\n",
       "  <tbody>\n",
       "    <tr>\n",
       "      <th>387</th>\n",
       "      <td>7.0</td>\n",
       "      <td>5.0</td>\n",
       "      <td>58.333333</td>\n",
       "    </tr>\n",
       "    <tr>\n",
       "      <th>235</th>\n",
       "      <td>6.0</td>\n",
       "      <td>7.0</td>\n",
       "      <td>46.153846</td>\n",
       "    </tr>\n",
       "    <tr>\n",
       "      <th>270</th>\n",
       "      <td>6.0</td>\n",
       "      <td>8.0</td>\n",
       "      <td>42.857143</td>\n",
       "    </tr>\n",
       "    <tr>\n",
       "      <th>399</th>\n",
       "      <td>5.0</td>\n",
       "      <td>8.0</td>\n",
       "      <td>38.461538</td>\n",
       "    </tr>\n",
       "    <tr>\n",
       "      <th>392</th>\n",
       "      <td>6.0</td>\n",
       "      <td>10.0</td>\n",
       "      <td>37.500000</td>\n",
       "    </tr>\n",
       "  </tbody>\n",
       "</table>\n",
       "</div>"
      ],
      "text/plain": [
       "        adopted  non_adopted  adoption_rate\n",
       "org_id                                     \n",
       "387         7.0          5.0      58.333333\n",
       "235         6.0          7.0      46.153846\n",
       "270         6.0          8.0      42.857143\n",
       "399         5.0          8.0      38.461538\n",
       "392         6.0         10.0      37.500000"
      ]
     },
     "execution_count": 28,
     "metadata": {},
     "output_type": "execute_result"
    }
   ],
   "source": [
    "# Print the top 5 of best organizations for user adoption rate:\n",
    "org_id['adoption_rate'] = org_id.adopted / (org_id.adopted+org_id.non_adopted) *100\n",
    "org_id = org_id.sort_values(by=['adoption_rate'], ascending=False)\n",
    "org_id.head()"
   ]
  },
  {
   "cell_type": "markdown",
   "metadata": {},
   "source": [
    "To see if the proportion of adopted is similar for each user_id, I will use chi2 contingency test."
   ]
  },
  {
   "cell_type": "code",
   "execution_count": 29,
   "metadata": {},
   "outputs": [
    {
     "name": "stdout",
     "output_type": "stream",
     "text": [
      "chi2: 2618.850630, degree of freedom: 2563, p_value: 0.216585\n"
     ]
    }
   ],
   "source": [
    "# First, get the contingency table\n",
    "invited_by_user_id = users.groupby('invited_by_user_id')[['adopted','non_adopted']].sum()\n",
    "# Then, calculate the chi2 test\n",
    "chi2, p, dof, expected = chi2_contingency(invited_by_user_id.values)\n",
    "print(\"chi2: {:f}, degree of freedom: {:d}, p_value: {:f}\".format(chi2,dof,p))"
   ]
  },
  {
   "cell_type": "markdown",
   "metadata": {},
   "source": [
    "These results show we can not reject the null hypothesis that the proportion of adopted is similar for any invited_by_user_id."
   ]
  },
  {
   "cell_type": "markdown",
   "metadata": {},
   "source": [
    "However, since half of the users have no invite, we couild check if there is a difference between users with invitation and users without invitation."
   ]
  },
  {
   "cell_type": "code",
   "execution_count": 30,
   "metadata": {
    "scrolled": true
   },
   "outputs": [
    {
     "name": "stderr",
     "output_type": "stream",
     "text": [
      "/Users/tisonbertrand/anaconda3/lib/python3.6/site-packages/ipykernel_launcher.py:2: SettingWithCopyWarning: \n",
      "A value is trying to be set on a copy of a slice from a DataFrame\n",
      "\n",
      "See the caveats in the documentation: http://pandas.pydata.org/pandas-docs/stable/indexing.html#indexing-view-versus-copy\n",
      "  \n"
     ]
    },
    {
     "data": {
      "image/png": "[encoded data removed]",
      "text/plain": [
       "<Figure size 720x360 with 1 Axes>"
      ]
     },
     "metadata": {},
     "output_type": "display_data"
    }
   ],
   "source": [
    "users['invited'] = 1\n",
    "users.invited[users.invited_by_user_id.isna()] = 0\n",
    "plot_cat(users,'invited')"
   ]
  },
  {
   "cell_type": "markdown",
   "metadata": {},
   "source": [
    "We can use whether the user is invited ot not as a feature for prediction."
   ]
  },
  {
   "cell_type": "markdown",
   "metadata": {},
   "source": [
    "## Conclusion"
   ]
  },
  {
   "cell_type": "markdown",
   "metadata": {},
   "source": [
    "The proportion of adopted users is 13.3% for this dataset.\n",
    "\n",
    "The factors to predict future user adoption are:\n",
    "\n",
    "- how the account was created: users invited to an organization as a guest or who signed up using Google authentication are more likely to be adopted. Users invited to join another user’s personal workspace are less likely to be adopted\n",
    "\n",
    "\n",
    "- organization the user belongs to: the statistical test shows the proportion of adopted is different according to organization. The top 5 organizations for best adoption rate 387, 235, 270, 399 and 415.\n",
    "\n",
    "\n",
    "- whether the user was invited to join or not. Users invited to join by another user are more likely to be adopted.\n",
    "\n",
    "\n",
    "We can also notice that the number of users who create an account has been constantly growing, and has almost doubled in the first 6 months of 2014.\n"
   ]
  }
 ],
 "metadata": {
  "kernelspec": {
   "display_name": "Python 3",
   "language": "python",
   "name": "python3"
  },
  "language_info": {
   "codemirror_mode": {
    "name": "ipython",
    "version": 3
   },
   "file_extension": ".py",
   "mimetype": "text/x-python",
   "name": "python",
   "nbconvert_exporter": "python",
   "pygments_lexer": "ipython3",
   "version": "3.6.8"
  }
 },
 "nbformat": 4,
 "nbformat_minor": 2
}
